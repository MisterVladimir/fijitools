{
 "cells": [
  {
   "cell_type": "code",
   "execution_count": 1,
   "metadata": {},
   "outputs": [],
   "source": [
    "import numpy as np\n",
    "import glob\n",
    "import os\n",
    "\n",
    "import fijitools.io.path as path\n",
    "import fijitools.io.roi.roi_read as roi_read"
   ]
  },
  {
   "cell_type": "code",
   "execution_count": 2,
   "metadata": {},
   "outputs": [],
   "source": [
    "pathfinder = path.PathFinder(extension='zip')"
   ]
  },
  {
   "cell_type": "code",
   "execution_count": 3,
   "metadata": {},
   "outputs": [],
   "source": [
    "folder = os.path.join(os.path.abspath('..'), 'test', 'data')"
   ]
  },
  {
   "cell_type": "code",
   "execution_count": 4,
   "metadata": {},
   "outputs": [],
   "source": [
    "zip_filenames = [p[0] for p in pathfinder.load(folder)]"
   ]
  },
  {
   "cell_type": "code",
   "execution_count": 5,
   "metadata": {},
   "outputs": [
    {
     "data": {
      "text/plain": [
       "['ovals.zip', 'rectangles.zip']"
      ]
     },
     "execution_count": 5,
     "metadata": {},
     "output_type": "execute_result"
    }
   ],
   "source": [
    "zip_filenames"
   ]
  },
  {
   "cell_type": "code",
   "execution_count": 6,
   "metadata": {},
   "outputs": [
    {
     "name": "stdout",
     "output_type": "stream",
     "text": [
      "ovals {'item': {'0': <fijitools.io.roi.roi_objects.EllipseROI object at 0x000001B2A0EF3FD0>, '1': <fijitools.io.roi.roi_objects.EllipseROI object at 0x000001B2A0F08080>, '2': <fijitools.io.roi.roi_objects.EllipseROI object at 0x000001B2A0F080F0>}}\n"
     ]
    }
   ],
   "source": [
    "with roi_read.IJZipReader(regexp=r'.*[0-9](#x)?\\.roi$', sep='-') as roi_reader:\n",
    "    roi_reader.read(folder + os.path.sep + zip_filenames[0])\n",
    "    for k, v in roi_reader.items():\n",
    "        print(k, v)"
   ]
  },
  {
   "cell_type": "code",
   "execution_count": 7,
   "metadata": {},
   "outputs": [
    {
     "data": {
      "text/plain": [
       "<fijitools.io.roi.roi_objects.EllipseROI at 0x1b2a0f08080>"
      ]
     },
     "execution_count": 7,
     "metadata": {},
     "output_type": "execute_result"
    }
   ],
   "source": [
    "roi_reader.data['ovals']['item']['1']"
   ]
  },
  {
   "cell_type": "code",
   "execution_count": 10,
   "metadata": {},
   "outputs": [],
   "source": [
    "ov = []\n",
    "for k, v in roi_reader.data.ovals.item.items():\n",
    "    ov.append(v)"
   ]
  },
  {
   "cell_type": "code",
   "execution_count": 12,
   "metadata": {},
   "outputs": [
    {
     "data": {
      "text/plain": [
       "b'Iout\\x00\\xe3\\x02\\x00\\x00\\x9c\\x00\\x06\\x00\\xe6\\x00O\\x00\\x00\\x00\\x00\\x00\\x00\\x00\\x00\\x00\\x00\\x00\\x00\\x00\\x00\\x00\\x00\\x00\\x00\\x00\\x00\\x00\\x00\\x00\\x00\\x00\\x00\\x00\\x00\\x00\\x00\\x00\\x00\\x00\\x00\\x00\\x00\\x00\\x00\\x00\\x00\\x00\\x00\\x00\\x00\\x00\\x00\\x00D\\x00\\x00\\x00\\x00\\x00\\x00\\x00\\x00\\x00\\x00\\x00\\x01\\x00\\x00\\x00\\x01\\x00\\x00\\x00\\x01\\x00\\x00\\x00x\\x00\\x00\\x00\\x04\\x00\\x00\\x00\\x00\\x00\\x00\\x00\\x00\\x00\\x00\\x00\\x00\\x00\\x00\\x00\\x00\\x00\\x00\\x00\\x80\\x00\\x00\\x00\\x98\\x00\\x00\\x00\\x00\\x00n\\x00a\\x00m\\x00e\\x00\\n\\x00S\\x00o\\x00f\\x00t\\x00w\\x00a\\x00r\\x00e\\x00:\\x00 \\x00h\\x00t\\x00t\\x00p\\x00s\\x00:\\x00/\\x00/\\x00g\\x00i\\x00t\\x00h\\x00u\\x00b\\x00.\\x00c\\x00o\\x00m\\x00/\\x00M\\x00i\\x00s\\x00t\\x00e\\x00r\\x00V\\x00l\\x00a\\x00d\\x00i\\x00m\\x00i\\x00r\\x00/\\x00f\\x00i\\x00j\\x00i\\x00_\\x00u\\x00t\\x00i\\x00l\\x00s\\x00\\n\\x00Y\\x00Y\\x00Y\\x00Y\\x00M\\x00M\\x00D\\x00D\\x00:\\x00 \\x002\\x000\\x001\\x008\\x00-\\x009\\x00-\\x001\\x001\\x00\\n'"
      ]
     },
     "execution_count": 12,
     "metadata": {},
     "output_type": "execute_result"
    }
   ],
   "source": [
    "ov[0].to_IJ(ov[0], 'name')"
   ]
  },
  {
   "cell_type": "code",
   "execution_count": 13,
   "metadata": {},
   "outputs": [
    {
     "data": {
      "text/plain": [
       "b'Iout\\x00\\xe3\\x01\\x00\\x00\\x9c\\x00\\x06\\x00\\xe6\\x00O\\x00\\x00\\x00\\x00\\x00\\x00\\x00\\x00\\x00\\x00\\x00\\x00\\x00\\x00\\x00\\x00\\x00\\x00\\x00\\x00\\x00\\x00\\x00\\x00\\x00\\x00\\x00\\x00\\x00\\x00\\x00\\x00\\x00\\x00\\x00\\x00\\x00\\x00\\x00\\x00\\x00\\x00\\x00\\x00\\x00\\x00\\x00D\\x00\\x00\\x00\\x00\\x00\\x00\\x00\\x00\\x00\\x00\\x00\\x01\\x00\\x00\\x00\\x01\\x00\\x00\\x00\\x01\\x00\\x00\\x00x\\x00\\x00\\x00\\x08\\x00\\x00\\x00\\x00\\x00\\x00\\x00\\x00\\x00\\x00\\x00\\x00\\x00\\x00\\x00\\x00\\x00\\x00\\x00\\x88\\x00\\x00\\x00\\xb4\\x00\\x00\\x00\\x00\\x00r\\x00o\\x00i\\x00_\\x00n\\x00a\\x00m\\x00e\\x00\\n\\x00S\\x00o\\x00f\\x00t\\x00w\\x00a\\x00r\\x00e\\x00:\\x00 \\x00h\\x00t\\x00t\\x00p\\x00s\\x00:\\x00/\\x00/\\x00g\\x00i\\x00t\\x00h\\x00u\\x00b\\x00.\\x00c\\x00o\\x00m\\x00/\\x00M\\x00i\\x00s\\x00t\\x00e\\x00r\\x00V\\x00l\\x00a\\x00d\\x00i\\x00m\\x00i\\x00r\\x00/\\x00f\\x00i\\x00j\\x00i\\x00_\\x00u\\x00t\\x00i\\x00l\\x00s\\x00\\n\\x00Y\\x00Y\\x00Y\\x00Y\\x00M\\x00M\\x00D\\x00D\\x00:\\x00 \\x002\\x000\\x001\\x008\\x00-\\x009\\x00-\\x001\\x001\\x00\\n\\x00I\\x00m\\x00a\\x00g\\x00e\\x00 \\x00N\\x00a\\x00m\\x00e\\x00:\\x00 \\x00i\\x00m'"
      ]
     },
     "execution_count": 13,
     "metadata": {},
     "output_type": "execute_result"
    }
   ],
   "source": [
    "from fijitools.io.roi.roi_objects import RectROI\n",
    "RectROI.to_IJ(roi=ov[0], image_name='im', name='roi_name')"
   ]
  },
  {
   "cell_type": "code",
   "execution_count": 14,
   "metadata": {},
   "outputs": [],
   "source": [
    "import fijitools.io.roi.roi_write as roi_write"
   ]
  },
  {
   "cell_type": "code",
   "execution_count": 23,
   "metadata": {},
   "outputs": [],
   "source": [
    "with roi_write.Hdf5Writer('test.h5') as writer:\n",
    "    for _ov in ov:\n",
    "        writer.write(_ov, ('c', 't', 'z', 'sides'), 'im', 'sides')"
   ]
  },
  {
   "cell_type": "code",
   "execution_count": 24,
   "metadata": {},
   "outputs": [],
   "source": [
    "import h5py"
   ]
  },
  {
   "cell_type": "code",
   "execution_count": 25,
   "metadata": {},
   "outputs": [
    {
     "name": "stdout",
     "output_type": "stream",
     "text": [
      "/im/centroid/0/0/0: [ 42.5 193. ]\n",
      "/im/centroid/0/1/1: [179.  230.5]\n",
      "/im/centroid/1/1/1: [120.5 133.5]\n",
      "/im/sides/0/0/0: [73. 74.]\n",
      "/im/sides/0/1/1: [ 60. 123.]\n",
      "/im/sides/1/1/1: [69. 51.]\n",
      "/im/top_left/0/0/0: [  6. 156.]\n",
      "/im/top_left/0/1/1: [149. 169.]\n",
      "/im/top_left/1/1/1: [ 86. 108.]\n"
     ]
    }
   ],
   "source": [
    "# https://github.com/h5py/h5py/issues/406#issuecomment-35644134\n",
    "def print_attrs(name, obj):\n",
    "    if isinstance(obj, h5py.Group):\n",
    "        for key, val in obj.items():\n",
    "            if isinstance(val, h5py.Dataset):\n",
    "                print(\"{}/{}: {}\".format(obj.name, key, val.value))\n",
    "\n",
    "with h5py.File('test.h5', 'r') as f:\n",
    "    f.visititems(print_attrs)"
   ]
  },
  {
   "cell_type": "code",
   "execution_count": 18,
   "metadata": {},
   "outputs": [
    {
     "data": {
      "text/plain": [
       "{'0': <fijitools.io.roi.roi_objects.EllipseROI at 0x1b2a0ef3fd0>,\n",
       " '1': <fijitools.io.roi.roi_objects.EllipseROI at 0x1b2a0f08080>,\n",
       " '2': <fijitools.io.roi.roi_objects.EllipseROI at 0x1b2a0f080f0>}"
      ]
     },
     "execution_count": 18,
     "metadata": {},
     "output_type": "execute_result"
    }
   ],
   "source": [
    "roi_reader.data.ovals.item"
   ]
  }
 ],
 "metadata": {
  "kernelspec": {
   "display_name": "Python (tensorflow)",
   "language": "python",
   "name": "tensorflow"
  },
  "language_info": {
   "codemirror_mode": {
    "name": "ipython",
    "version": 3
   },
   "file_extension": ".py",
   "mimetype": "text/x-python",
   "name": "python",
   "nbconvert_exporter": "python",
   "pygments_lexer": "ipython3",
   "version": "3.6.6"
  }
 },
 "nbformat": 4,
 "nbformat_minor": 2
}
